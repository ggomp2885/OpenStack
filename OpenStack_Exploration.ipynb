{
 "cells": [
  {
   "cell_type": "markdown",
   "metadata": {},
   "source": [
    "## OpenStack Exploration"
   ]
  },
  {
   "cell_type": "markdown",
   "metadata": {},
   "source": [
    "#### General"
   ]
  },
  {
   "cell_type": "markdown",
   "metadata": {},
   "source": [
    "---------------------Hotel OpenStack-----------------------\n",
    "An infrastructure works just like a \"virtual\" hotel, that can be customized in a million different ways, to provide exactly what is needed, when it is needed. It is like a raw block of marble that can be sculpted and changed overtime. It is also like a hotel in that there are intercoms setup between different rooms, at a different times, this is how VPCs and the allowed connections between them can be like.\n",
    "\n",
    "Types of Clouds\n",
    "Public: Pay as you go\n",
    "Private: Upfront cost of hardware, then you own the whole machine\n",
    "\n",
    "Enterprise IT setup\n",
    "Okay so we're actually doing more of an Enterprise type setup where we're installing this OpenStack on top of physical linux servers.\n",
    "\n",
    "History of OS since 2010\n",
    "Openstack has grown from 220k cores in 2017 to 15million in 2021. Woah.\n",
    "2010 Nasa and Rackspace partnered up to create OpenStack, were both working on the same thing at the time.\n",
    "2012 OpenStack name was established\n",
    "2014 OpenStack marketplace opens\n",
    "2016 - half of fortune 100 companies have some integration with Openstack, and 86% of China’s telecommunications depend in someway on OS.\n",
    "2017 - 220k cores running on OS\n",
    "2021 - 15M cores running on OS\n",
    "Growth rate of OS has been slightly above the avg growth rate of the cloud - would be interested to see some SO charts on the his\n",
    "\n"
   ]
  }
 ],
 "metadata": {
  "instance_type": "ml.t3.medium",
  "kernelspec": {
   "display_name": "Python 3 (Data Science)",
   "language": "python",
   "name": "python3__SAGEMAKER_INTERNAL__arn:aws:sagemaker:us-east-1:081325390199:image/datascience-1.0"
  },
  "language_info": {
   "codemirror_mode": {
    "name": "ipython",
    "version": 3
   },
   "file_extension": ".py",
   "mimetype": "text/x-python",
   "name": "python",
   "nbconvert_exporter": "python",
   "pygments_lexer": "ipython3",
   "version": "3.7.6"
  }
 },
 "nbformat": 4,
 "nbformat_minor": 4
}
